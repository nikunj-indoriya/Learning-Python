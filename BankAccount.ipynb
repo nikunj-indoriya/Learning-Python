{
 "cells": [
  {
   "cell_type": "code",
   "execution_count": 1,
   "id": "85fe0fd0-7f0f-40d0-8211-f8d5bc08c509",
   "metadata": {},
   "outputs": [],
   "source": [
    "class Account():\n",
    "\n",
    "  def __init__(self,owner,balance = 0):\n",
    "\n",
    "    self.owner = owner\n",
    "    self.balance = balance\n",
    "\n",
    "  def deposit(self,dep_amt):\n",
    "    self.balance = self.balance + dep_amt\n",
    "    print(f\"Added {dep_amt} to the balance\")\n",
    "\n",
    "  def withdrawal(self,wd_amt):\n",
    "\n",
    "    if self.balance >= wd_amt:\n",
    "      self.balance = self.balance - wd_amt\n",
    "      print(\"Withdrawal accepted\")\n",
    "\n",
    "    else:\n",
    "      print(\"Sorry not enough funds!\")\n",
    "\n",
    "  def __str__(self):\n",
    "    return f\"Owner: {self.owner} \\nBalance: {self.balance}\""
   ]
  },
  {
   "cell_type": "code",
   "execution_count": 2,
   "id": "e19afd93-82e7-4911-9d0f-3b5467926433",
   "metadata": {},
   "outputs": [],
   "source": [
    "a = Account(\"Sam\",500)"
   ]
  },
  {
   "cell_type": "code",
   "execution_count": 3,
   "id": "28e93285-4722-4999-9840-2ae451528cbc",
   "metadata": {},
   "outputs": [
    {
     "data": {
      "text/plain": [
       "'Sam'"
      ]
     },
     "execution_count": 3,
     "metadata": {},
     "output_type": "execute_result"
    }
   ],
   "source": [
    "a.owner"
   ]
  },
  {
   "cell_type": "code",
   "execution_count": 4,
   "id": "0a8589c2-90bb-4420-9ee8-d0c2d6a0e3a5",
   "metadata": {},
   "outputs": [
    {
     "data": {
      "text/plain": [
       "500"
      ]
     },
     "execution_count": 4,
     "metadata": {},
     "output_type": "execute_result"
    }
   ],
   "source": [
    "a.balance"
   ]
  },
  {
   "cell_type": "code",
   "execution_count": 5,
   "id": "67d31495-71e2-4c79-81fb-6895f441847a",
   "metadata": {},
   "outputs": [
    {
     "name": "stdout",
     "output_type": "stream",
     "text": [
      "Owner: Sam \n",
      "Balance: 500\n"
     ]
    }
   ],
   "source": [
    "print(a)"
   ]
  },
  {
   "cell_type": "code",
   "execution_count": 6,
   "id": "d367a7a2-b125-4cab-954b-c4bf90126778",
   "metadata": {},
   "outputs": [
    {
     "name": "stdout",
     "output_type": "stream",
     "text": [
      "Added 100 to the balance\n"
     ]
    }
   ],
   "source": [
    "a.deposit(100)"
   ]
  },
  {
   "cell_type": "code",
   "execution_count": 7,
   "id": "ba141fea-a3e9-439f-bf7d-861b2c773a6b",
   "metadata": {},
   "outputs": [
    {
     "name": "stdout",
     "output_type": "stream",
     "text": [
      "Owner: Sam \n",
      "Balance: 600\n"
     ]
    }
   ],
   "source": [
    "print(a)"
   ]
  },
  {
   "cell_type": "code",
   "execution_count": 9,
   "id": "49109156-cb15-42a1-b7d2-a04368f63954",
   "metadata": {},
   "outputs": [
    {
     "name": "stdout",
     "output_type": "stream",
     "text": [
      "Withdrawal accepted\n"
     ]
    }
   ],
   "source": [
    "a.withdrawal(600)"
   ]
  },
  {
   "cell_type": "code",
   "execution_count": 10,
   "id": "89100751-2e80-447d-a7f3-1a7a545e6fd2",
   "metadata": {},
   "outputs": [
    {
     "name": "stdout",
     "output_type": "stream",
     "text": [
      "Sorry not enough funds!\n"
     ]
    }
   ],
   "source": [
    "a.withdrawal(1)"
   ]
  },
  {
   "cell_type": "code",
   "execution_count": 11,
   "id": "a8f61d98-c296-4605-a916-923a6486abcc",
   "metadata": {},
   "outputs": [
    {
     "name": "stdout",
     "output_type": "stream",
     "text": [
      "Owner: Sam \n",
      "Balance: 0\n"
     ]
    }
   ],
   "source": [
    "print(a)"
   ]
  },
  {
   "cell_type": "code",
   "execution_count": null,
   "id": "00f53078-29c3-4bc7-82d6-02a9ec13fa23",
   "metadata": {},
   "outputs": [],
   "source": []
  }
 ],
 "metadata": {
  "kernelspec": {
   "display_name": "Python 3 (ipykernel)",
   "language": "python",
   "name": "python3"
  },
  "language_info": {
   "codemirror_mode": {
    "name": "ipython",
    "version": 3
   },
   "file_extension": ".py",
   "mimetype": "text/x-python",
   "name": "python",
   "nbconvert_exporter": "python",
   "pygments_lexer": "ipython3",
   "version": "3.12.1"
  }
 },
 "nbformat": 4,
 "nbformat_minor": 5
}
