{
 "cells": [
  {
   "cell_type": "code",
   "execution_count": 15,
   "id": "543f7fd0-f1dd-47ff-9402-32fcb81ca676",
   "metadata": {},
   "outputs": [],
   "source": [
    "import random\n",
    "\n",
    "suits = {'Hearts', 'Diamonds', 'Spades', 'Clubs'}\n",
    "ranks = {'Two', 'Three', 'Four', 'Five', 'Six', 'Seven', 'Eight', 'Nine', 'Ten', 'Jack', 'Queen', 'King', 'Ace'}\n",
    "values = {'Two':2, 'Three':3, 'Four':4, 'Five':5, 'Six':6, 'Seven':7, 'Eight':8, 'Nine':9, 'Ten':10, 'Jack':10, 'Queen':10, 'King':10, 'Ace':11}\n",
    "playing = True"
   ]
  },
  {
   "cell_type": "code",
   "execution_count": 16,
   "id": "42d3ad06-8523-474f-be4a-62516a74ecb7",
   "metadata": {},
   "outputs": [],
   "source": [
    "class Card:\n",
    "\n",
    "    def __init__(self,suit,rank):\n",
    "        self.suit = suit\n",
    "        self.rank = rank\n",
    "\n",
    "    def __str__(self):\n",
    "        return self.rank + \" of \" + self.suit"
   ]
  },
  {
   "cell_type": "code",
   "execution_count": 17,
   "id": "386287a8-34ff-4b11-b654-bd02db07d50e",
   "metadata": {},
   "outputs": [],
   "source": [
    "class Deck:\n",
    "\n",
    "    def __init__(self):\n",
    "        self.deck = []\n",
    "        for suit in suits:\n",
    "            for rank in ranks:\n",
    "                self.deck.append(Card(suit,rank))\n",
    "\n",
    "    def __str__(self):\n",
    "        deck_comp = ''\n",
    "        for card in self.deck:\n",
    "            deck_comp += '\\n' + card.__str__()\n",
    "\n",
    "        return \"The deck has: \"+ deck_comp\n",
    "\n",
    "    def shuffle(self):\n",
    "        random.shuffle(self.deck)\n",
    "\n",
    "    def deal(self):\n",
    "        single_card = self.deck.pop()\n",
    "        return single_card"
   ]
  },
  {
   "cell_type": "code",
   "execution_count": 18,
   "id": "ca63db73-6917-4b34-9426-4e41400c8721",
   "metadata": {},
   "outputs": [
    {
     "name": "stdout",
     "output_type": "stream",
     "text": [
      "The deck has: \n",
      "Two of Hearts\n",
      "Six of Spades\n",
      "Five of Clubs\n",
      "Queen of Clubs\n",
      "Five of Spades\n",
      "Ace of Spades\n",
      "Eight of Hearts\n",
      "Four of Hearts\n",
      "Five of Hearts\n",
      "Ten of Clubs\n",
      "Eight of Clubs\n",
      "Seven of Diamonds\n",
      "King of Diamonds\n",
      "King of Hearts\n",
      "Three of Diamonds\n",
      "Queen of Diamonds\n",
      "Jack of Hearts\n",
      "Six of Diamonds\n",
      "Ace of Diamonds\n",
      "Ten of Spades\n",
      "Queen of Hearts\n",
      "Ten of Diamonds\n",
      "Nine of Spades\n",
      "Nine of Hearts\n",
      "King of Clubs\n",
      "Six of Hearts\n",
      "Four of Diamonds\n",
      "King of Spades\n",
      "Three of Hearts\n",
      "Two of Clubs\n",
      "Jack of Spades\n",
      "Five of Diamonds\n",
      "Jack of Clubs\n",
      "Three of Clubs\n",
      "Nine of Clubs\n",
      "Two of Spades\n",
      "Ace of Hearts\n",
      "Jack of Diamonds\n",
      "Eight of Diamonds\n",
      "Four of Clubs\n",
      "Seven of Hearts\n",
      "Six of Clubs\n",
      "Ace of Clubs\n",
      "Two of Diamonds\n",
      "Seven of Clubs\n",
      "Nine of Diamonds\n",
      "Seven of Spades\n",
      "Four of Spades\n",
      "Eight of Spades\n",
      "Ten of Hearts\n",
      "Three of Spades\n",
      "Queen of Spades\n"
     ]
    }
   ],
   "source": [
    "test_deck = Deck()\n",
    "test_deck.shuffle()\n",
    "print(test_deck)"
   ]
  },
  {
   "cell_type": "code",
   "execution_count": 19,
   "id": "1df3d013-fb2e-4c25-be0e-ddf6c392243a",
   "metadata": {},
   "outputs": [],
   "source": [
    "class Hand:\n",
    "\n",
    "    def __init__(self):\n",
    "        self.cards = []\n",
    "        self.value = 0\n",
    "        self.aces = 0\n",
    "\n",
    "    def add_card(self,card):\n",
    "        self.cards.append(card)\n",
    "        self.value += values[card.rank]\n",
    "\n",
    "        if card.rank == 'Ace':\n",
    "            self.aces += 1\n",
    "\n",
    "    def adjust_for_ace(self):\n",
    "\n",
    "        while self.value > 21 and self.aces > 0:\n",
    "            self.value -= 10\n",
    "            self.aces -= 1"
   ]
  },
  {
   "cell_type": "code",
   "execution_count": 20,
   "id": "e8d78945-feac-4092-8806-7c8ca523edca",
   "metadata": {},
   "outputs": [
    {
     "name": "stdout",
     "output_type": "stream",
     "text": [
      "Queen of Clubs\n",
      "10\n"
     ]
    }
   ],
   "source": [
    "test_deck = Deck()\n",
    "test_deck.shuffle()\n",
    "test_player = Hand()\n",
    "pulled_card = test_deck.deal()\n",
    "print(pulled_card)\n",
    "test_player.add_card(pulled_card)\n",
    "print(test_player.value)"
   ]
  },
  {
   "cell_type": "code",
   "execution_count": 21,
   "id": "f71ee79a-3249-4556-9d41-d8e6c2b9d2fd",
   "metadata": {},
   "outputs": [],
   "source": [
    "test_player.add_card(test_deck.deal())"
   ]
  },
  {
   "cell_type": "code",
   "execution_count": 22,
   "id": "652a995d-92e6-40b5-bd50-89f5b21b7adb",
   "metadata": {},
   "outputs": [
    {
     "data": {
      "text/plain": [
       "20"
      ]
     },
     "execution_count": 22,
     "metadata": {},
     "output_type": "execute_result"
    }
   ],
   "source": [
    "test_player.value"
   ]
  },
  {
   "cell_type": "code",
   "execution_count": 23,
   "id": "96289706-00b3-41e9-9ff0-1a4a7558019f",
   "metadata": {},
   "outputs": [],
   "source": [
    "class Chips:\n",
    "\n",
    "    def __init__(self,total=100):\n",
    "        self.total = total\n",
    "        self.bet = 0\n",
    "\n",
    "    def win_bet(self):\n",
    "        self.total += self.bet\n",
    "\n",
    "    def lose_bet(self):\n",
    "        self.total -= self.bet"
   ]
  },
  {
   "cell_type": "code",
   "execution_count": 24,
   "id": "78f3cda5-a218-46b2-b0d4-5e4182dd72f4",
   "metadata": {},
   "outputs": [],
   "source": [
    "def take_bet(chips):\n",
    "\n",
    "    while True:\n",
    "\n",
    "        try:\n",
    "            chips.bet = int(input(\"How many chips would you like to bet? \"))\n",
    "        except:\n",
    "            print(\"Sorry please provide an integer\")\n",
    "        else:\n",
    "            if chips.bet > chips.total:\n",
    "                print(f'Sorry, you do not have enough chips! You have: {chips.total}')\n",
    "            else:\n",
    "                break"
   ]
  },
  {
   "cell_type": "code",
   "execution_count": 25,
   "id": "9bc9ac2a-4817-4dc4-ad65-5c2918867788",
   "metadata": {},
   "outputs": [],
   "source": [
    "def hit(deck,hand):\n",
    "\n",
    "    single_card = deck.deal()\n",
    "    hand.add_card(single_card)\n",
    "    hand.adjust_for_ace()"
   ]
  },
  {
   "cell_type": "code",
   "execution_count": 26,
   "id": "96aa9318-689a-4d48-8e3b-9ba352011cde",
   "metadata": {},
   "outputs": [],
   "source": [
    "def hit_or_stand(deck,hand):\n",
    "    global playing\n",
    "\n",
    "    while True:\n",
    "        x = input('Hit or Stand? Enter h or s ')\n",
    "\n",
    "        if x[0].lower() == 'h':\n",
    "            hit(deck,hand)\n",
    "\n",
    "        elif x[0].lower() == 's':\n",
    "            print(\"Player Stands Dealer's Turn\")\n",
    "            playing = False\n",
    "\n",
    "        else:\n",
    "            print(\"Sorry, I did not understand that, Please enter h or s only!\")\n",
    "            continue\n",
    "        break"
   ]
  },
  {
   "cell_type": "code",
   "execution_count": 27,
   "id": "2135f816-9142-48f2-b47b-427a19c38be4",
   "metadata": {},
   "outputs": [],
   "source": [
    "def show_some(player,dealer):\n",
    "\n",
    "    print(\"\\n Dealer's Hand: \")\n",
    "    print(\"First card hidden!\")\n",
    "    print(dealer.cards[1])\n",
    "\n",
    "    print(\"\\n Player's Hand: \")\n",
    "    for card in player.cards:\n",
    "        print(card)\n",
    "\n",
    "def show_all(player,dealer):\n",
    "\n",
    "    print(\"\\n Dealer's Hand: \")\n",
    "    for card in dealer.cards:\n",
    "        print(card)\n",
    "\n",
    "    print(f\"Value of Dealer's hand is: {dealer.value}\")\n",
    "\n",
    "    print(\"\\n Player's Hand: \")\n",
    "    for card in player.cards:\n",
    "        print(card)\n",
    "\n",
    "    print(f\"Value of Player's hand is: {player.value}\")"
   ]
  },
  {
   "cell_type": "code",
   "execution_count": 28,
   "id": "80b03396-3d06-413a-a3be-ae8c1573e2df",
   "metadata": {},
   "outputs": [],
   "source": [
    "def player_busts(player,dealer,chips):\n",
    "    print(\"Bust Player!\")\n",
    "    chips.lose_bet()\n",
    "\n",
    "def player_wins(player,dealer,chips):\n",
    "    print(\"Player Wins!\")\n",
    "    chips.win_bet()\n",
    "\n",
    "def dealer_busts(player,dealer,chips):\n",
    "    print(\"Player Wins! Dealer Busted\")\n",
    "    chips.win_bet()\n",
    "\n",
    "def dealer_wins(player,dealer,chips):\n",
    "    print(\"Dealer Wins!\")\n",
    "    chips.lose_bet()\n",
    "\n",
    "def push(player,dealer,chips):\n",
    "    print('Dealer and Player tie! Push')"
   ]
  },
  {
   "cell_type": "code",
   "execution_count": null,
   "id": "43c9e4fe-8159-4e44-a774-a614b7949c19",
   "metadata": {},
   "outputs": [
    {
     "name": "stdout",
     "output_type": "stream",
     "text": [
      "Welcome to BlackJack\n"
     ]
    },
    {
     "name": "stdin",
     "output_type": "stream",
     "text": [
      "How many chips would you like to bet?  30\n"
     ]
    },
    {
     "name": "stdout",
     "output_type": "stream",
     "text": [
      "\n",
      " Dealer's Hand: \n",
      "First card hidden!\n",
      "Five of Diamonds\n",
      "\n",
      " Player's Hand: \n",
      "Two of Clubs\n",
      "Four of Spades\n"
     ]
    },
    {
     "name": "stdin",
     "output_type": "stream",
     "text": [
      "Hit or Stand? Enter h or s  s\n"
     ]
    },
    {
     "name": "stdout",
     "output_type": "stream",
     "text": [
      "Player Stands Dealer's Turn\n",
      "\n",
      " Dealer's Hand: \n",
      "First card hidden!\n",
      "Five of Diamonds\n",
      "\n",
      " Player's Hand: \n",
      "Two of Clubs\n",
      "Four of Spades\n",
      "\n",
      " Dealer's Hand: \n",
      "Six of Clubs\n",
      "Five of Diamonds\n",
      "Nine of Diamonds\n",
      "Value of Dealer's hand is: 20\n",
      "\n",
      " Player's Hand: \n",
      "Two of Clubs\n",
      "Four of Spades\n",
      "Value of Player's hand is: 6\n",
      "Dealer Wins!\n",
      "\n",
      " Player total chips are at: 70\n"
     ]
    }
   ],
   "source": [
    "while True:\n",
    "\n",
    "    print(\"Welcome to BlackJack\")\n",
    "\n",
    "    deck = Deck()\n",
    "    deck.shuffle()\n",
    "\n",
    "    player_hand = Hand()\n",
    "    player_hand.add_card(deck.deal())\n",
    "    player_hand.add_card(deck.deal())\n",
    "\n",
    "    dealer_hand = Hand()\n",
    "    dealer_hand.add_card(deck.deal())\n",
    "    dealer_hand.add_card(deck.deal())\n",
    "\n",
    "    player_chips = Chips()\n",
    "\n",
    "    take_bet(player_chips)\n",
    "\n",
    "    show_some(player_hand,dealer_hand)\n",
    "\n",
    "    while playing:\n",
    "\n",
    "        hit_or_stand(deck,player_hand)\n",
    "\n",
    "        show_some(player_hand,dealer_hand)\n",
    "\n",
    "        if player_hand.value > 21:\n",
    "            player_busts(player_hand,dealer_hand,player_chips)\n",
    "            break\n",
    "\n",
    "    if player_hand.value <= 21:\n",
    "\n",
    "        while dealer_hand.value < 17:\n",
    "            hit(deck,dealer_hand)\n",
    "\n",
    "        show_all(player_hand,dealer_hand)\n",
    "\n",
    "        if dealer_hand.value > 21:\n",
    "            dealer_busts(player_hand,dealer_hand,player_chips)\n",
    "        elif dealer_hand.value > player_hand.value:\n",
    "            dealer_wins(player_hand,dealer_hand,player_chips)\n",
    "        elif dealer_hand.value < player_hand.value:\n",
    "            player_wins(player_hand,dealer_hand,player_chips)\n",
    "        else:\n",
    "            push(player_hand,dealer_hand)\n",
    "\n",
    "    print(\"\\n Player total chips are at: {}\".format(player_chips.total))\n",
    "\n",
    "    new_game = input(\"Would you like to play another hand? y/n\")\n",
    "\n",
    "    if new_game[0].lower() == 'y':\n",
    "        playing = True\n",
    "        continue\n",
    "    else:\n",
    "        print('Thank you for playing!')\n",
    "        break"
   ]
  },
  {
   "cell_type": "code",
   "execution_count": null,
   "id": "235e5493-e50a-487b-bb0f-2f9574e1a671",
   "metadata": {},
   "outputs": [],
   "source": []
  }
 ],
 "metadata": {
  "kernelspec": {
   "display_name": "Python 3 (ipykernel)",
   "language": "python",
   "name": "python3"
  },
  "language_info": {
   "codemirror_mode": {
    "name": "ipython",
    "version": 3
   },
   "file_extension": ".py",
   "mimetype": "text/x-python",
   "name": "python",
   "nbconvert_exporter": "python",
   "pygments_lexer": "ipython3",
   "version": "3.12.1"
  }
 },
 "nbformat": 4,
 "nbformat_minor": 5
}
